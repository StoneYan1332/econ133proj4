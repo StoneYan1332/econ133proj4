{
 "cells": [
  {
   "cell_type": "code",
   "execution_count": 14,
   "id": "b50e2105-1fe4-489e-959a-409e5d610829",
   "metadata": {},
   "outputs": [
    {
     "ename": "AttributeError",
     "evalue": "module 'numpy.linalg._umath_linalg' has no attribute '_ilp64'",
     "output_type": "error",
     "traceback": [
      "\u001b[0;31m---------------------------------------------------------------------------\u001b[0m",
      "\u001b[0;31mAttributeError\u001b[0m                            Traceback (most recent call last)",
      "Cell \u001b[0;32mIn[14], line 1\u001b[0m\n\u001b[0;32m----> 1\u001b[0m \u001b[38;5;28;01mfrom\u001b[39;00m \u001b[38;5;21;01mcfe\u001b[39;00m \u001b[38;5;28;01mimport\u001b[39;00m regression \u001b[38;5;28;01mas\u001b[39;00m regression_tools\n\u001b[1;32m      2\u001b[0m \u001b[38;5;28;01mimport\u001b[39;00m \u001b[38;5;21;01mnumpy\u001b[39;00m \u001b[38;5;28;01mas\u001b[39;00m \u001b[38;5;21;01mnp\u001b[39;00m\n\u001b[1;32m      3\u001b[0m \u001b[38;5;28;01mimport\u001b[39;00m \u001b[38;5;21;01mmatplotlib\u001b[39;00m\u001b[38;5;21;01m.\u001b[39;00m\u001b[38;5;21;01mpyplot\u001b[39;00m \u001b[38;5;28;01mas\u001b[39;00m \u001b[38;5;21;01mplt\u001b[39;00m\n",
      "File \u001b[0;32m/srv/conda/lib/python3.9/site-packages/cfe/__init__.py:1\u001b[0m\n\u001b[0;32m----> 1\u001b[0m \u001b[38;5;28;01mimport\u001b[39;00m \u001b[38;5;21;01mconsumerdemands\u001b[39;00m \u001b[38;5;28;01mas\u001b[39;00m \u001b[38;5;21;01mdemands\u001b[39;00m\n\u001b[1;32m      2\u001b[0m \u001b[38;5;28;01mfrom\u001b[39;00m \u001b[38;5;21;01m.\u001b[39;00m \u001b[38;5;28;01mimport\u001b[39;00m estimation\n\u001b[1;32m      3\u001b[0m \u001b[38;5;28;01mfrom\u001b[39;00m \u001b[38;5;21;01m.\u001b[39;00m \u001b[38;5;28;01mimport\u001b[39;00m df_utils\n",
      "File \u001b[0;32m/srv/conda/lib/python3.9/site-packages/consumerdemands/__init__.py:1\u001b[0m\n\u001b[0;32m----> 1\u001b[0m \u001b[38;5;28;01mfrom\u001b[39;00m \u001b[38;5;21;01m.\u001b[39;00m \u001b[38;5;28;01mimport\u001b[39;00m _core\n\u001b[1;32m      2\u001b[0m \u001b[38;5;28;01mfrom\u001b[39;00m \u001b[38;5;21;01m.\u001b[39;00m \u001b[38;5;28;01mimport\u001b[39;00m marshallian\n\u001b[1;32m      3\u001b[0m \u001b[38;5;28;01mfrom\u001b[39;00m \u001b[38;5;21;01m.\u001b[39;00m \u001b[38;5;28;01mimport\u001b[39;00m frischian\n",
      "File \u001b[0;32m/srv/conda/lib/python3.9/site-packages/consumerdemands/_core.py:3\u001b[0m\n\u001b[1;32m      1\u001b[0m \u001b[38;5;66;03m# [[file:../demands.org::demand_core][demand_core]]\u001b[39;00m\n\u001b[1;32m      2\u001b[0m \u001b[38;5;66;03m# Tangled on Fri Mar 15 06:08:15 2024\u001b[39;00m\n\u001b[0;32m----> 3\u001b[0m \u001b[38;5;28;01mfrom\u001b[39;00m \u001b[38;5;21;01m.\u001b[39;00m \u001b[38;5;28;01mimport\u001b[39;00m frischian\n\u001b[1;32m      4\u001b[0m \u001b[38;5;28;01mfrom\u001b[39;00m \u001b[38;5;21;01m.\u001b[39;00m\u001b[38;5;21;01m_utils\u001b[39;00m \u001b[38;5;28;01mimport\u001b[39;00m check_args, derivative\n\u001b[1;32m      5\u001b[0m \u001b[38;5;28;01mimport\u001b[39;00m \u001b[38;5;21;01mwarnings\u001b[39;00m\n",
      "File \u001b[0;32m/srv/conda/lib/python3.9/site-packages/consumerdemands/frischian.py:3\u001b[0m\n\u001b[1;32m      1\u001b[0m \u001b[38;5;66;03m# [[file:../demands.org::frischian][frischian]]\u001b[39;00m\n\u001b[1;32m      2\u001b[0m \u001b[38;5;66;03m# Tangled on Fri Mar 15 06:08:15 2024\u001b[39;00m\n\u001b[0;32m----> 3\u001b[0m \u001b[38;5;28;01mfrom\u001b[39;00m \u001b[38;5;21;01m.\u001b[39;00m\u001b[38;5;21;01m_utils\u001b[39;00m \u001b[38;5;28;01mimport\u001b[39;00m check_args\n\u001b[1;32m      4\u001b[0m \u001b[38;5;28;01mfrom\u001b[39;00m \u001b[38;5;21;01mnumpy\u001b[39;00m \u001b[38;5;28;01mimport\u001b[39;00m log\n\u001b[1;32m      6\u001b[0m \u001b[38;5;28;01mdef\u001b[39;00m \u001b[38;5;21mdemands\u001b[39m(lbda,p,parms,NegativeDemands\u001b[38;5;241m=\u001b[39m\u001b[38;5;28;01mTrue\u001b[39;00m):\n",
      "File \u001b[0;32m/srv/conda/lib/python3.9/site-packages/consumerdemands/_utils.py:3\u001b[0m\n\u001b[1;32m      1\u001b[0m \u001b[38;5;66;03m# [[file:../demands.org::demand_utils][demand_utils]]\u001b[39;00m\n\u001b[1;32m      2\u001b[0m \u001b[38;5;66;03m# Tangled on Fri Mar 15 06:08:15 2024\u001b[39;00m\n\u001b[0;32m----> 3\u001b[0m \u001b[38;5;28;01mfrom\u001b[39;00m \u001b[38;5;21;01mscipy\u001b[39;00m \u001b[38;5;28;01mimport\u001b[39;00m optimize\n\u001b[1;32m      4\u001b[0m \u001b[38;5;28;01mfrom\u001b[39;00m \u001b[38;5;21;01mnumpy\u001b[39;00m \u001b[38;5;28;01mimport\u001b[39;00m array, ones, zeros, \u001b[38;5;28msum\u001b[39m, log, Inf, dot, nan, \u001b[38;5;28mall\u001b[39m, \u001b[38;5;28mmax\u001b[39m, \u001b[38;5;28mabs\u001b[39m, isfinite\n\u001b[1;32m      5\u001b[0m \u001b[38;5;28;01mimport\u001b[39;00m \u001b[38;5;21;01mwarnings\u001b[39;00m\n",
      "File \u001b[0;32m/srv/conda/lib/python3.9/site-packages/scipy/optimize/__init__.py:405\u001b[0m\n\u001b[1;32m      1\u001b[0m \u001b[38;5;124;03m\"\"\"\u001b[39;00m\n\u001b[1;32m      2\u001b[0m \u001b[38;5;124;03m=====================================================\u001b[39;00m\n\u001b[1;32m      3\u001b[0m \u001b[38;5;124;03mOptimization and root finding (:mod:`scipy.optimize`)\u001b[39;00m\n\u001b[0;32m   (...)\u001b[0m\n\u001b[1;32m    401\u001b[0m \n\u001b[1;32m    402\u001b[0m \u001b[38;5;124;03m\"\"\"\u001b[39;00m\n\u001b[1;32m    404\u001b[0m \u001b[38;5;28;01mfrom\u001b[39;00m \u001b[38;5;21;01m.\u001b[39;00m\u001b[38;5;21;01m_optimize\u001b[39;00m \u001b[38;5;28;01mimport\u001b[39;00m \u001b[38;5;241m*\u001b[39m\n\u001b[0;32m--> 405\u001b[0m \u001b[38;5;28;01mfrom\u001b[39;00m \u001b[38;5;21;01m.\u001b[39;00m\u001b[38;5;21;01m_minimize\u001b[39;00m \u001b[38;5;28;01mimport\u001b[39;00m \u001b[38;5;241m*\u001b[39m\n\u001b[1;32m    406\u001b[0m \u001b[38;5;28;01mfrom\u001b[39;00m \u001b[38;5;21;01m.\u001b[39;00m\u001b[38;5;21;01m_root\u001b[39;00m \u001b[38;5;28;01mimport\u001b[39;00m \u001b[38;5;241m*\u001b[39m\n\u001b[1;32m    407\u001b[0m \u001b[38;5;28;01mfrom\u001b[39;00m \u001b[38;5;21;01m.\u001b[39;00m\u001b[38;5;21;01m_root_scalar\u001b[39;00m \u001b[38;5;28;01mimport\u001b[39;00m \u001b[38;5;241m*\u001b[39m\n",
      "File \u001b[0;32m/srv/conda/lib/python3.9/site-packages/scipy/optimize/_minimize.py:26\u001b[0m\n\u001b[1;32m     24\u001b[0m \u001b[38;5;28;01mfrom\u001b[39;00m \u001b[38;5;21;01m.\u001b[39;00m\u001b[38;5;21;01m_trustregion_krylov\u001b[39;00m \u001b[38;5;28;01mimport\u001b[39;00m _minimize_trust_krylov\n\u001b[1;32m     25\u001b[0m \u001b[38;5;28;01mfrom\u001b[39;00m \u001b[38;5;21;01m.\u001b[39;00m\u001b[38;5;21;01m_trustregion_exact\u001b[39;00m \u001b[38;5;28;01mimport\u001b[39;00m _minimize_trustregion_exact\n\u001b[0;32m---> 26\u001b[0m \u001b[38;5;28;01mfrom\u001b[39;00m \u001b[38;5;21;01m.\u001b[39;00m\u001b[38;5;21;01m_trustregion_constr\u001b[39;00m \u001b[38;5;28;01mimport\u001b[39;00m _minimize_trustregion_constr\n\u001b[1;32m     28\u001b[0m \u001b[38;5;66;03m# constrained minimization\u001b[39;00m\n\u001b[1;32m     29\u001b[0m \u001b[38;5;28;01mfrom\u001b[39;00m \u001b[38;5;21;01m.\u001b[39;00m\u001b[38;5;21;01m_lbfgsb_py\u001b[39;00m \u001b[38;5;28;01mimport\u001b[39;00m _minimize_lbfgsb\n",
      "File \u001b[0;32m/srv/conda/lib/python3.9/site-packages/scipy/optimize/_trustregion_constr/__init__.py:4\u001b[0m\n\u001b[1;32m      1\u001b[0m \u001b[38;5;124;03m\"\"\"This module contains the equality constrained SQP solver.\"\"\"\u001b[39;00m\n\u001b[0;32m----> 4\u001b[0m \u001b[38;5;28;01mfrom\u001b[39;00m \u001b[38;5;21;01m.\u001b[39;00m\u001b[38;5;21;01mminimize_trustregion_constr\u001b[39;00m \u001b[38;5;28;01mimport\u001b[39;00m _minimize_trustregion_constr\n\u001b[1;32m      6\u001b[0m __all__ \u001b[38;5;241m=\u001b[39m [\u001b[38;5;124m'\u001b[39m\u001b[38;5;124m_minimize_trustregion_constr\u001b[39m\u001b[38;5;124m'\u001b[39m]\n",
      "File \u001b[0;32m/srv/conda/lib/python3.9/site-packages/scipy/optimize/_trustregion_constr/minimize_trustregion_constr.py:5\u001b[0m\n\u001b[1;32m      3\u001b[0m \u001b[38;5;28;01mfrom\u001b[39;00m \u001b[38;5;21;01mscipy\u001b[39;00m\u001b[38;5;21;01m.\u001b[39;00m\u001b[38;5;21;01msparse\u001b[39;00m\u001b[38;5;21;01m.\u001b[39;00m\u001b[38;5;21;01mlinalg\u001b[39;00m \u001b[38;5;28;01mimport\u001b[39;00m LinearOperator\n\u001b[1;32m      4\u001b[0m \u001b[38;5;28;01mfrom\u001b[39;00m \u001b[38;5;21;01m.\u001b[39;00m\u001b[38;5;21;01m.\u001b[39;00m\u001b[38;5;21;01m_differentiable_functions\u001b[39;00m \u001b[38;5;28;01mimport\u001b[39;00m VectorFunction\n\u001b[0;32m----> 5\u001b[0m \u001b[38;5;28;01mfrom\u001b[39;00m \u001b[38;5;21;01m.\u001b[39;00m\u001b[38;5;21;01m.\u001b[39;00m\u001b[38;5;21;01m_constraints\u001b[39;00m \u001b[38;5;28;01mimport\u001b[39;00m (\n\u001b[1;32m      6\u001b[0m     NonlinearConstraint, LinearConstraint, PreparedConstraint, strict_bounds)\n\u001b[1;32m      7\u001b[0m \u001b[38;5;28;01mfrom\u001b[39;00m \u001b[38;5;21;01m.\u001b[39;00m\u001b[38;5;21;01m.\u001b[39;00m\u001b[38;5;21;01m_hessian_update_strategy\u001b[39;00m \u001b[38;5;28;01mimport\u001b[39;00m BFGS\n\u001b[1;32m      8\u001b[0m \u001b[38;5;28;01mfrom\u001b[39;00m \u001b[38;5;21;01m.\u001b[39;00m\u001b[38;5;21;01m.\u001b[39;00m\u001b[38;5;21;01m_optimize\u001b[39;00m \u001b[38;5;28;01mimport\u001b[39;00m OptimizeResult\n",
      "File \u001b[0;32m/srv/conda/lib/python3.9/site-packages/scipy/optimize/_constraints.py:8\u001b[0m\n\u001b[1;32m      6\u001b[0m \u001b[38;5;28;01mfrom\u001b[39;00m \u001b[38;5;21;01m.\u001b[39;00m\u001b[38;5;21;01m_optimize\u001b[39;00m \u001b[38;5;28;01mimport\u001b[39;00m OptimizeWarning\n\u001b[1;32m      7\u001b[0m \u001b[38;5;28;01mfrom\u001b[39;00m \u001b[38;5;21;01mwarnings\u001b[39;00m \u001b[38;5;28;01mimport\u001b[39;00m warn, catch_warnings, simplefilter\n\u001b[0;32m----> 8\u001b[0m \u001b[38;5;28;01mfrom\u001b[39;00m \u001b[38;5;21;01mnumpy\u001b[39;00m\u001b[38;5;21;01m.\u001b[39;00m\u001b[38;5;21;01mtesting\u001b[39;00m \u001b[38;5;28;01mimport\u001b[39;00m suppress_warnings\n\u001b[1;32m      9\u001b[0m \u001b[38;5;28;01mfrom\u001b[39;00m \u001b[38;5;21;01mscipy\u001b[39;00m\u001b[38;5;21;01m.\u001b[39;00m\u001b[38;5;21;01msparse\u001b[39;00m \u001b[38;5;28;01mimport\u001b[39;00m issparse\n\u001b[1;32m     12\u001b[0m \u001b[38;5;28;01mdef\u001b[39;00m \u001b[38;5;21m_arr_to_scalar\u001b[39m(x):\n\u001b[1;32m     13\u001b[0m     \u001b[38;5;66;03m# If x is a numpy array, return x.item().  This will\u001b[39;00m\n\u001b[1;32m     14\u001b[0m     \u001b[38;5;66;03m# fail if the array has more than one element.\u001b[39;00m\n",
      "File \u001b[0;32m/srv/conda/lib/python3.9/site-packages/numpy/testing/__init__.py:11\u001b[0m\n\u001b[1;32m      8\u001b[0m \u001b[38;5;28;01mfrom\u001b[39;00m \u001b[38;5;21;01munittest\u001b[39;00m \u001b[38;5;28;01mimport\u001b[39;00m TestCase\n\u001b[1;32m     10\u001b[0m \u001b[38;5;28;01mfrom\u001b[39;00m \u001b[38;5;21;01m.\u001b[39;00m \u001b[38;5;28;01mimport\u001b[39;00m _private\n\u001b[0;32m---> 11\u001b[0m \u001b[38;5;28;01mfrom\u001b[39;00m \u001b[38;5;21;01m.\u001b[39;00m\u001b[38;5;21;01m_private\u001b[39;00m\u001b[38;5;21;01m.\u001b[39;00m\u001b[38;5;21;01mutils\u001b[39;00m \u001b[38;5;28;01mimport\u001b[39;00m \u001b[38;5;241m*\u001b[39m\n\u001b[1;32m     12\u001b[0m \u001b[38;5;28;01mfrom\u001b[39;00m \u001b[38;5;21;01m.\u001b[39;00m\u001b[38;5;21;01m_private\u001b[39;00m\u001b[38;5;21;01m.\u001b[39;00m\u001b[38;5;21;01mutils\u001b[39;00m \u001b[38;5;28;01mimport\u001b[39;00m (_assert_valid_refcount, _gen_alignment_data)\n\u001b[1;32m     13\u001b[0m \u001b[38;5;28;01mfrom\u001b[39;00m \u001b[38;5;21;01m.\u001b[39;00m\u001b[38;5;21;01m_private\u001b[39;00m \u001b[38;5;28;01mimport\u001b[39;00m extbuild\n",
      "File \u001b[0;32m/srv/conda/lib/python3.9/site-packages/numpy/testing/_private/utils.py:57\u001b[0m\n\u001b[1;32m     55\u001b[0m IS_PYSTON \u001b[38;5;241m=\u001b[39m \u001b[38;5;28mhasattr\u001b[39m(sys, \u001b[38;5;124m\"\u001b[39m\u001b[38;5;124mpyston_version_info\u001b[39m\u001b[38;5;124m\"\u001b[39m)\n\u001b[1;32m     56\u001b[0m HAS_REFCOUNT \u001b[38;5;241m=\u001b[39m \u001b[38;5;28mgetattr\u001b[39m(sys, \u001b[38;5;124m'\u001b[39m\u001b[38;5;124mgetrefcount\u001b[39m\u001b[38;5;124m'\u001b[39m, \u001b[38;5;28;01mNone\u001b[39;00m) \u001b[38;5;129;01mis\u001b[39;00m \u001b[38;5;129;01mnot\u001b[39;00m \u001b[38;5;28;01mNone\u001b[39;00m \u001b[38;5;129;01mand\u001b[39;00m \u001b[38;5;129;01mnot\u001b[39;00m IS_PYSTON\n\u001b[0;32m---> 57\u001b[0m HAS_LAPACK64 \u001b[38;5;241m=\u001b[39m \u001b[43mnumpy\u001b[49m\u001b[38;5;241;43m.\u001b[39;49m\u001b[43mlinalg\u001b[49m\u001b[38;5;241;43m.\u001b[39;49m\u001b[43m_umath_linalg\u001b[49m\u001b[38;5;241;43m.\u001b[39;49m\u001b[43m_ilp64\u001b[49m\n\u001b[1;32m     59\u001b[0m _OLD_PROMOTION \u001b[38;5;241m=\u001b[39m \u001b[38;5;28;01mlambda\u001b[39;00m: np\u001b[38;5;241m.\u001b[39m_get_promotion_state() \u001b[38;5;241m==\u001b[39m \u001b[38;5;124m'\u001b[39m\u001b[38;5;124mlegacy\u001b[39m\u001b[38;5;124m'\u001b[39m\n\u001b[1;32m     61\u001b[0m IS_MUSL \u001b[38;5;241m=\u001b[39m \u001b[38;5;28;01mFalse\u001b[39;00m\n",
      "\u001b[0;31mAttributeError\u001b[0m: module 'numpy.linalg._umath_linalg' has no attribute '_ilp64'"
     ]
    }
   ],
   "source": [
    "from cfe import regression as regression_tools\n",
    "import numpy as np\n",
    "import matplotlib.pyplot as plt\n",
    "from nutrition_results import r as uga\n",
    "from nutrition_results import rdi, nutrient_demand\n",
    "from nutrition_results import pbar, my_prices"
   ]
  },
  {
   "cell_type": "code",
   "execution_count": null,
   "id": "9771cc55-b53d-48cd-9ead-cc89ce04cbba",
   "metadata": {},
   "outputs": [],
   "source": [
    "r = regression_tools.read_pickle('my_result.pickle')\n",
    "uganda_predicted_expenditures = r.predicted_expenditures()\n",
    "uganda_predicted_prices = np.exp(r.get_Ar())"
   ]
  },
  {
   "cell_type": "code",
   "execution_count": null,
   "id": "2009491a-37f7-4dad-b198-22a83cf2728b",
   "metadata": {},
   "outputs": [],
   "source": [
    "uganda_reference_prices = uganda_predicted_prices.xs(\"2019-20\", level='t').groupby('j').mean()"
   ]
  },
  {
   "cell_type": "code",
   "execution_count": null,
   "id": "a14da4d4-a193-4238-b879-3876f9065319",
   "metadata": {},
   "outputs": [],
   "source": [
    "food = 'Beef'\n",
    "uganda_price_scale = np.linspace(0.5, 2, 20)\n",
    "uganda_total_expenditures = uganda_predicted_expenditures.groupby(['i', 't', 'm']).sum()\n",
    "uganda_median_budget = uganda_total_expenditures.quantile(0.5)\n",
    "uganda_reference_prices = uganda_predicted_prices.xs(\"2019-20\", level='t').groupby('j').mean()  # Replace 'latest_year' with the actual latest year available, e.g., '2019'\n",
    "\n",
    "def adjust_uganda_prices(new_price, prices=uganda_reference_prices, good=food):\n",
    "    adjusted_prices = prices.copy()\n",
    "    adjusted_prices.loc[good] = new_price\n",
    "    return adjusted_prices\n",
    "plt.plot(\n",
    "    [r.demands(uganda_median_budget, adjust_uganda_prices(uganda_reference_prices[food] * scale))[food] for scale in uganda_price_scale],\n",
    "    uganda_price_scale,\n",
    "    label='Median budget'\n",
    ")\n",
    "plt.plot(\n",
    "    [r.demands(uganda_total_expenditures.quantile(0.25), adjust_uganda_prices(uganda_reference_prices[food] * scale))[food] for scale in uganda_price_scale],\n",
    "    uganda_price_scale,\n",
    "    label='25th percentile budget'\n",
    ")\n",
    "plt.plot(\n",
    "    [r.demands(uganda_total_expenditures.quantile(0.75), adjust_uganda_prices(uganda_reference_prices[food] * scale))[food] for scale in uganda_price_scale],\n",
    "    uganda_price_scale,\n",
    "    label='75th percentile budget'\n",
    ")\n",
    "\n",
    "plt.ylabel(f\"Price (relative to base of {uganda_reference_prices[food]:.2f})\")\n",
    "plt.xlabel(f\"Quantities of {food} Demanded in Uganda\")\n",
    "plt.legend()\n",
    "plt.show()"
   ]
  },
  {
   "cell_type": "code",
   "execution_count": null,
   "id": "70d6af46-d473-48d7-824e-e958c7268cbc",
   "metadata": {},
   "outputs": [],
   "source": [
    "xhat = r.predicted_expenditures()\n",
    "\n",
    "# Total food expenditures per household\n",
    "xbar = xhat.groupby(['i','t','m']).sum()\n",
    "\n",
    "# Reference budget\n",
    "xref = xbar.quantile(0.5)"
   ]
  },
  {
   "cell_type": "code",
   "execution_count": null,
   "id": "0bd54b52-8d7f-4f89-acf7-244704109600",
   "metadata": {},
   "outputs": [],
   "source": [
    "fig,ax = plt.subplots()\n",
    "\n",
    "scale = np.geomspace(.01,10,50)\n",
    "\n",
    "ax.plot(np.log(scale*xref),[r.expenditures(s*xref,pbar)/(s*xref) for s in scale])\n",
    "ax.set_xlabel(f'log budget (relative to base of {xref:.0f})')\n",
    "ax.set_ylabel(f'Expenditure share')\n",
    "ax.set_title('Engel Curves')"
   ]
  },
  {
   "cell_type": "code",
   "execution_count": null,
   "id": "b4a27f21-4e5c-4852-af28-d367c3c6130c",
   "metadata": {},
   "outputs": [],
   "source": [
    "qhat = (xhat.unstack('j')/pbar).dropna(how='all')\n",
    "qhat = qhat.loc[:,qhat.count()>0]"
   ]
  },
  {
   "cell_type": "code",
   "execution_count": null,
   "id": "eba7b2a3-b173-4d3c-b860-92088dcdea7c",
   "metadata": {},
   "outputs": [],
   "source": [
    "def my_prices(p0,p,food):\n",
    "    p = p.copy()\n",
    "    p.loc[food] = p0\n",
    "    return p"
   ]
  },
  {
   "cell_type": "code",
   "execution_count": null,
   "id": "6a0c2aab-49d2-46de-9368-a074d9aeee3d",
   "metadata": {},
   "outputs": [],
   "source": [
    "my_prices(pbar[food]*s,pbar,'Beef')"
   ]
  },
  {
   "cell_type": "code",
   "execution_count": null,
   "id": "73809ac2-02ce-4825-a162-a99a698ae176",
   "metadata": {},
   "outputs": [],
   "source": [
    "import matplotlib.pyplot as plt\n",
    "%matplotlib inline\n",
    "\n",
    "my_j = 'Millet'  # Interesting Ugandan staple\n",
    "\n",
    "P = np.geomspace(.01,10,50)*pbar[my_j]\n",
    "\n",
    "# Utility of median household, given prices\n",
    "U0 = uga.indirect_utility(x0,pbar)\n",
    "\n",
    "plt.plot([uga.demands(x0,my_prices(p0,j=my_j))[my_j] for p0 in P],P)\n",
    "plt.plot([uga.demands(U0,my_prices(p0,j=my_j),type=\"Hicksian\")[my_j] for p0 in P],P)\n",
    "plt.ylabel('Price')\n",
    "plt.xlabel(my_j)\n",
    "plt.legend((\"Marshallian\",\"Hicksian\"))"
   ]
  },
  {
   "cell_type": "code",
   "execution_count": null,
   "id": "ad55aeb6-fdb9-4e4f-94cf-55d097e4be2d",
   "metadata": {},
   "outputs": [],
   "source": [
    "def compensating_variation(U0,p0,p1):\n",
    "    x0 = uga.expenditure(U0,p0)\n",
    "    x1 = uga.expenditure(U0,p1)\n",
    "\n",
    "    return x1-x0\n",
    "\n",
    "def revenue(U0,p0,p1,type='Marshallian'):\n",
    "    \"\"\"(Un)Compensated revenue from taxes changing vector of prices from p0 to p1.\n",
    "\n",
    "    Note that this is only for *demand* side (i.e., if supply perfectly elastic).\n",
    "    \"\"\"\n",
    "    \n",
    "    dp = p1 - p0 # Change in prices\n",
    "\n",
    "    c = uga.demands(U0,p1,type=type)\n",
    "\n",
    "    dp,c = dp.align(c,join='inner')\n",
    "\n",
    "    return dp.T@c\n",
    "\n",
    "\n",
    "def deadweight_loss(U0,p0,p1):\n",
    "    \"\"\"\n",
    "    Deadweight loss of tax/subsidy scheme creating wedge in prices from p0 to p1.\n",
    "\n",
    "    Note that this is only for *demand* side (i.e., if supply perfectly elastic).\n",
    "    \"\"\"\n",
    "    cv = compensating_variation(U0,p0,p1)\n",
    "\n",
    "    return cv - revenue(U0,p0,p1,type='Hicksian')"
   ]
  },
  {
   "cell_type": "code",
   "execution_count": null,
   "id": "4e44a6e7-9d6e-43ec-ae4a-ea1ab4e0e2f2",
   "metadata": {},
   "outputs": [],
   "source": [
    "fig, ax1 = plt.subplots()\n",
    "\n",
    "ax1.plot(P,[compensating_variation(U0,pbar,my_prices(p0,j=my_j)) for p0 in P])\n",
    "ax1.set_xlabel(f\"Price of {my_j}\")\n",
    "ax1.set_ylabel(\"Compensating Variation\")\n",
    "\n",
    "ax1.plot(P,[revenue(U0,pbar,my_prices(p0,j=my_j),type='Hicksian') for p0 in P],'k')\n",
    "ax1.legend(('Compensating Variation','Revenue'))\n",
    "ax1.axhline(0)\n",
    "ax1.axvline(pbar.loc[my_j])"
   ]
  },
  {
   "cell_type": "code",
   "execution_count": null,
   "id": "20b0c870-409d-4fbe-a5a5-b1304ca72641",
   "metadata": {},
   "outputs": [],
   "source": [
    "fig, ax1 = plt.subplots()\n",
    "\n",
    "ax1.plot(P,[deadweight_loss(U0,pbar,my_prices(p0,j=my_j)) for p0 in P])\n",
    "ax1.set_xlabel(\"Price of %s\" % my_j)\n",
    "ax1.set_ylabel(\"Deadweight Loss\")"
   ]
  }
 ],
 "metadata": {
  "kernelspec": {
   "display_name": "Python 3 (ipykernel)",
   "language": "python",
   "name": "python3"
  },
  "language_info": {
   "codemirror_mode": {
    "name": "ipython",
    "version": 3
   },
   "file_extension": ".py",
   "mimetype": "text/x-python",
   "name": "python",
   "nbconvert_exporter": "python",
   "pygments_lexer": "ipython3",
   "version": "3.9.15"
  }
 },
 "nbformat": 4,
 "nbformat_minor": 5
}
